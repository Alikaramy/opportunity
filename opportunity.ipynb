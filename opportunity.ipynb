{
  "cells": [
    {
      "cell_type": "code",
      "source": [
        "!wget -cO - \"https://archive.ics.uci.edu/static/public/226/opportunity+activity+recognition.zip\" > uci.zip"
      ],
      "metadata": {
        "colab": {
          "base_uri": "https://localhost:8080/"
        },
        "id": "gCJtzv8UpEq8",
        "outputId": "35cab59c-8d00-4a92-cdca-716393f46535"
      },
      "execution_count": 1,
      "outputs": [
        {
          "output_type": "stream",
          "name": "stdout",
          "text": [
            "--2024-08-11 08:17:05--  https://archive.ics.uci.edu/static/public/226/opportunity+activity+recognition.zip\n",
            "Resolving archive.ics.uci.edu (archive.ics.uci.edu)... 128.195.10.252\n",
            "Connecting to archive.ics.uci.edu (archive.ics.uci.edu)|128.195.10.252|:443... connected.\n",
            "HTTP request sent, awaiting response... 200 OK\n",
            "Length: unspecified\n",
            "Saving to: ‘STDOUT’\n",
            "\n",
            "-                       [             <=>    ] 292.43M  65.9MB/s    in 4.3s    \n",
            "\n",
            "2024-08-11 08:17:10 (67.5 MB/s) - written to stdout [306636009]\n",
            "\n"
          ]
        }
      ]
    },
    {
      "cell_type": "code",
      "execution_count": 9,
      "metadata": {
        "id": "_7mOrCoN3w-X"
      },
      "outputs": [],
      "source": [
        "import shutil\n",
        "import numpy as np\n",
        "import pandas as pd\n",
        "import matplotlib.pyplot as plt\n",
        "import seaborn as sns\n",
        "from sklearn.preprocessing import LabelBinarizer\n",
        "import random\n",
        "import tensorflow as tf\n",
        "from tensorflow import keras\n",
        "import torch\n",
        "from sklearn.metrics import accuracy_score\n",
        "from sklearn.model_selection import train_test_split\n",
        "import os\n",
        "from sklearn.preprocessing import StandardScaler, MinMaxScaler\n",
        "from tqdm import tqdm\n",
        "import warnings\n",
        "warnings.filterwarnings('ignore')"
      ]
    },
    {
      "cell_type": "code",
      "source": [
        "shutil.unpack_archive(\"uci.zip\")"
      ],
      "metadata": {
        "id": "REP7ocZPqFmU"
      },
      "execution_count": 4,
      "outputs": []
    },
    {
      "cell_type": "code",
      "source": [
        "\n",
        "src_dir = \"/content/OpportunityUCIDataset/dataset\"\n",
        "user_num = 4\n",
        "adl_file_num = 5\n",
        "files_dir = {}\n",
        "for user_idx in tqdm(range(1, user_num+1)):\n",
        "    user_data_path = []\n",
        "    for file_idx in tqdm(range(1, adl_file_num+1)):\n",
        "        file_name = f\"S{user_idx}-ADL{file_idx}.dat\"\n",
        "        file_path = os.path.join(src_dir, file_name)\n",
        "        user_data_path.append(file_path)\n",
        "    files_dir[str(user_idx)] = user_data_path\n",
        "\n",
        "files_dir"
      ],
      "metadata": {
        "colab": {
          "base_uri": "https://localhost:8080/"
        },
        "id": "zUipaalT6Ort",
        "outputId": "fde8d347-d39c-4b81-d70e-51bb95f877e5"
      },
      "execution_count": 5,
      "outputs": [
        {
          "output_type": "stream",
          "name": "stderr",
          "text": [
            "  0%|          | 0/4 [00:00<?, ?it/s]\n",
            "100%|██████████| 5/5 [00:00<00:00, 47880.18it/s]\n",
            "\n",
            "100%|██████████| 5/5 [00:00<00:00, 52560.20it/s]\n",
            "\n",
            "100%|██████████| 5/5 [00:00<00:00, 55043.36it/s]\n",
            "\n",
            "100%|██████████| 5/5 [00:00<00:00, 54330.36it/s]\n",
            "100%|██████████| 4/4 [00:00<00:00, 212.04it/s]\n"
          ]
        },
        {
          "output_type": "execute_result",
          "data": {
            "text/plain": [
              "{'1': ['/content/OpportunityUCIDataset/dataset/S1-ADL1.dat',\n",
              "  '/content/OpportunityUCIDataset/dataset/S1-ADL2.dat',\n",
              "  '/content/OpportunityUCIDataset/dataset/S1-ADL3.dat',\n",
              "  '/content/OpportunityUCIDataset/dataset/S1-ADL4.dat',\n",
              "  '/content/OpportunityUCIDataset/dataset/S1-ADL5.dat'],\n",
              " '2': ['/content/OpportunityUCIDataset/dataset/S2-ADL1.dat',\n",
              "  '/content/OpportunityUCIDataset/dataset/S2-ADL2.dat',\n",
              "  '/content/OpportunityUCIDataset/dataset/S2-ADL3.dat',\n",
              "  '/content/OpportunityUCIDataset/dataset/S2-ADL4.dat',\n",
              "  '/content/OpportunityUCIDataset/dataset/S2-ADL5.dat'],\n",
              " '3': ['/content/OpportunityUCIDataset/dataset/S3-ADL1.dat',\n",
              "  '/content/OpportunityUCIDataset/dataset/S3-ADL2.dat',\n",
              "  '/content/OpportunityUCIDataset/dataset/S3-ADL3.dat',\n",
              "  '/content/OpportunityUCIDataset/dataset/S3-ADL4.dat',\n",
              "  '/content/OpportunityUCIDataset/dataset/S3-ADL5.dat'],\n",
              " '4': ['/content/OpportunityUCIDataset/dataset/S4-ADL1.dat',\n",
              "  '/content/OpportunityUCIDataset/dataset/S4-ADL2.dat',\n",
              "  '/content/OpportunityUCIDataset/dataset/S4-ADL3.dat',\n",
              "  '/content/OpportunityUCIDataset/dataset/S4-ADL4.dat',\n",
              "  '/content/OpportunityUCIDataset/dataset/S4-ADL5.dat']}"
            ]
          },
          "metadata": {},
          "execution_count": 5
        }
      ]
    },
    {
      "cell_type": "code",
      "source": [
        "\n",
        "\n",
        "def get_cleaned_user_data(file_pth, user_idx):\n",
        "    invalid_feature = np.arange( 46, 50 )  # BACK Quaternion\n",
        "    invalid_feature = np.concatenate( [invalid_feature, np.arange(34, 37)] )  # RH_acc\n",
        "    invalid_feature = np.concatenate( [invalid_feature, np.arange(59, 63)] )  # RUA Quaternion\n",
        "    invalid_feature = np.concatenate( [invalid_feature, np.arange(72, 76)] )  # RLA\n",
        "    invalid_feature = np.concatenate( [invalid_feature, np.arange(85, 89)] )  # LUA\n",
        "    invalid_feature = np.concatenate( [invalid_feature, np.arange(99, 102)] )  # LLA\n",
        "    invalid_feature = np.concatenate( [invalid_feature, np.arange(117, 118)] )  # L-SHOE Compass\n",
        "    invalid_feature = np.concatenate( [invalid_feature, np.arange(133, 134)] )  # R-SHOE Compass\n",
        "    invalid_feature = np.concatenate( [invalid_feature, np.arange(134, 244)] )  # environment sensor\n",
        "    invalid_feature = np.concatenate( [invalid_feature, np.arange(245, 250)] )  # LL, ML level label\n",
        "    drop_columns = invalid_feature\n",
        "\n",
        "    raw_data = np.loadtxt(file_pth)\n",
        "\n",
        "    used_data = np.delete(raw_data, drop_columns, axis=1)\n",
        "    print(used_data.shape)\n",
        "\n",
        "    used_columns = [\"MILLISEC\",\n",
        "                    \"acc_RKN_upper_accX\",\"acc_RKN_upper_accY\",\"acc_RKN_upper_accZ\",\n",
        "                    \"acc_HIP_accX\",\"acc_HIP_accY\",\"acc_HIP_accZ\",\n",
        "                    \"acc_LUA_upper_accX\",\"acc_LUA_upper_accY\",\"acc_LUA_upper_accZ\",\n",
        "                    \"acc_RUA_lower_accX\",\"acc_RUA_lower_accY\",\"acc_RUA_lower_accZ\",\n",
        "                    \"acc_LH_accX\",\"acc_LH_accY\",\"acc_LH_accZ\",\n",
        "                    \"acc_BACK_accX\",\"acc_BACK_accY\",\"acc_BACK_accZ\",\n",
        "                    \"acc_RKN_lower_accX\",\"acc_RKN_lower_accY\",\"acc_RKN_lower_accZ\",\n",
        "                    \"acc_RWR_accX\",\"acc_RWR_accY\",\"acc_RWR_accZ\",\n",
        "                    \"acc_RUA_upper_accX\",\"acc_RUA_upper_accY\",\"acc_RUA_upper_accZ\",\n",
        "                    \"acc_LUA_lower_accX\",\"acc_LUA_lower_accY\",\"acc_LUA_lower_accZ\",\n",
        "                    \"acc_LWR_accX\",\"acc_LWR_accY\",\"acc_LWR_accZ\",\n",
        "#                     \"acc_RH_accX\",\"acc_RH_accY\",\"acc_RH_accZ\",\n",
        "                    \"imu_BACK_accX\",\"imu_BACK_accY\",\"imu_BACK_accZ\",\n",
        "                    \"imu_BACK_gyroX\",\"imu_BACK_gyroY\",\"imu_BACK_gyroZ\",\n",
        "                    \"imu_BACK_magneticX\",\"imu_BACK_magneticY\",\"imu_BACK_magneticZ\",\n",
        "                    \"imu_RUA_accX\",\"imu_RUA_accY\",\"imu_RUA_accZ\",\n",
        "                    \"imu_RUA_gyroX\",\"imu_RUA_gyroY\",\"imu_RUA_gyroZ\",\n",
        "                    \"imu_RUA_magneticX\",\"imu_RUA_magneticY\",\"imu_RUA_magneticZ\",\n",
        "                    \"imu_RLA_accX\",\"imu_RLA_accY\",\"imu_RLA_accZ\",\n",
        "                    \"imu_RLA_gyroX\",\"imu_RLA_gyroY\",\"imu_RLA_gyroZ\",\n",
        "                    \"imu_RLA_magneticX\",\"imu_RLA_magneticY\",\"imu_RLA_magneticZ\",\n",
        "                    \"imu_LUA_accX\",\"imu_LUA_accY\",\"imu_LUA_accZ\",\n",
        "                    \"imu_LUA_gyroX\",\"imu_LUA_gyroY\",\"imu_LUA_gyroZ\",\n",
        "                    \"imu_LUA_magneticX\",\"imu_LUA_magneticY\",\"imu_LUA_magneticZ\",\n",
        "                    \"imu_LLA_accX\",\"imu_LLA_accY\",\"imu_LLA_accZ\",\n",
        "                    \"imu_LLA_gyroX\",\"imu_LLA_gyroY\",\"imu_LLA_gyroZ\",\n",
        "                    \"imu_LLA_magneticX\",\"imu_LLA_magneticY\",\"imu_LLA_magneticZ\",\n",
        "                    \"imu_L-SHOE_EuX\",\"imu_L-SHOE_EuY\",\"imu_L-SHOE_EuZ\",\n",
        "                    \"imu_L-SHOE_Nav_Ax\",\"imu_L-SHOE_Nav_Ay\",\"imu_L-SHOE_Nav_Az\",\n",
        "                    \"imu_L-SHOE_Body_Ax\",\"imu_L-SHOE_Body_Ay\",\"imu_L-SHOE_Body_Az\",\n",
        "                    \"imu_L-SHOE_AngVelBodyFrameX\",\"imu_L-SHOE_AngVelBodyFrameY\",\"imu_L-SHOE_AngVelBodyFrameZ\",\n",
        "                    \"imu_L-SHOE_AngVelNavFrameX\",\"imu_L-SHOE_AngVelNavFrameY\",\"imu_L-SHOE_AngVelNavFrameZ\",\n",
        "                    \"imu_R-SHOE_EuX\",\"imu_R-SHOE_EuY\",\"imu_R-SHOE_EuZ\",\n",
        "                    \"imu_R-SHOE_Nav_Ax\",\"imu_R-SHOE_Nav_Ay\",\"imu_R-SHOE_Nav_Az\",\n",
        "                    \"imu_R-SHOE_Body_Ax\",\"imu_R-SHOE_Body_Ay\",\"imu_R-SHOE_Body_Az\",\n",
        "                    \"imu_R-SHOE_AngVelBodyFrameX\",\"imu_R-SHOE_AngVelBodyFrameY\",\"imu_R-SHOE_AngVelBodyFrameZ\",\n",
        "                    \"imu_R-SHOE_AngVelNavFrameX\",\"imu_R-SHOE_AngVelNavFrameY\",\"imu_R-SHOE_AngVelNavFrameZ\",\n",
        "                    \"Locomotion\",\n",
        "                    \"HL_Activity\"]\n",
        "    used_data = pd.DataFrame(used_data, columns=used_columns)\n",
        "\n",
        "    used_data = used_data[used_data['HL_Activity'] != 0]\n",
        "\n",
        "\n",
        "    used_data['HL_Activity'][used_data['HL_Activity']==101] = 0  # Relaxing\n",
        "    used_data['HL_Activity'][used_data['HL_Activity']==102] = 1  # Coffee time\n",
        "    used_data['HL_Activity'][used_data['HL_Activity']==103] = 2  # Early morning\n",
        "    used_data['HL_Activity'][used_data['HL_Activity']==104] = 3  # Cleanup\n",
        "    used_data['HL_Activity'][used_data['HL_Activity']==105] = 4  # Sandwich time\n",
        "\n",
        "\n",
        "    used_data = used_data.interpolate()\n",
        "\n",
        "\n",
        "    pos = used_data.isnull().stack()[lambda x:x].index.tolist()\n",
        "\n",
        "    used_data = used_data.dropna(axis=0)\n",
        "    print(used_data.shape)\n",
        "    return used_data"
      ],
      "metadata": {
        "id": "hpFHIf9zQI4M"
      },
      "execution_count": 6,
      "outputs": []
    },
    {
      "cell_type": "code",
      "source": [
        "\n",
        "scaler = StandardScaler()\n",
        "\n",
        "def sliding_window(time_series, width, step, order='F'):\n",
        "    w = np.hstack([time_series[i:1 + i - width or None:step] for i in range(0, width)])\n",
        "    result = w.reshape((int(len(w) / width), width), order='F')\n",
        "    if order == 'F':\n",
        "        return result\n",
        "    else:\n",
        "        return np.ascontiguousarray(result)\n",
        "\n",
        "def calc_normalization(data):\n",
        "    num_instances, num_time_steps, num_features = data.shape\n",
        "    data = np.reshape(data, (num_instances, -1))\n",
        "    scaler.fit(data)\n",
        "def apply_normalization(data):\n",
        "    scaler = StandardScaler()\n",
        "    num_instances, num_time_steps, num_features = data.shape\n",
        "    data = np.reshape(data, (num_instances, -1))\n",
        "    norm_data = scaler.fit_transform(data)\n",
        "\n",
        "    norm_data[np.isnan(norm_data)] = 0\n",
        "    norm_data = np.reshape(norm_data, (num_instances, num_time_steps, num_features))\n",
        "    return norm_data"
      ],
      "metadata": {
        "id": "Fxo39pVkBFD-"
      },
      "execution_count": 7,
      "outputs": []
    },
    {
      "cell_type": "code",
      "source": [
        "\n",
        "\n",
        "src_dir = \"/content/OpportunityUCIDataset/dataset\"\n",
        "user_num = 4\n",
        "adl_file_num = 5\n",
        "\n",
        "seq_length = 300\n",
        "shifting_step = 30\n",
        "channel_num = 3*36\n",
        "used_channels = [\n",
        "    \"acc_RKN_upper_accX\",\"acc_RKN_upper_accY\",\"acc_RKN_upper_accZ\",\n",
        "    \"acc_HIP_accX\",\"acc_HIP_accY\",\"acc_HIP_accZ\",\n",
        "    \"acc_LUA_upper_accX\",\"acc_LUA_upper_accY\",\"acc_LUA_upper_accZ\",\n",
        "    \"acc_RUA_lower_accX\",\"acc_RUA_lower_accY\",\"acc_RUA_lower_accZ\",\n",
        "    \"acc_LH_accX\",\"acc_LH_accY\",\"acc_LH_accZ\",\n",
        "    \"acc_BACK_accX\",\"acc_BACK_accY\",\"acc_BACK_accZ\",\n",
        "    \"acc_RKN_lower_accX\",\"acc_RKN_lower_accY\",\"acc_RKN_lower_accZ\",\n",
        "    \"acc_RWR_accX\",\"acc_RWR_accY\",\"acc_RWR_accZ\",\n",
        "    \"acc_RUA_upper_accX\",\"acc_RUA_upper_accY\",\"acc_RUA_upper_accZ\",\n",
        "    \"acc_LUA_lower_accX\",\"acc_LUA_lower_accY\",\"acc_LUA_lower_accZ\",\n",
        "    \"acc_LWR_accX\",\"acc_LWR_accY\",\"acc_LWR_accZ\",\n",
        "    \"imu_BACK_accX\",\"imu_BACK_accY\",\"imu_BACK_accZ\",\n",
        "    \"imu_BACK_gyroX\",\"imu_BACK_gyroY\",\"imu_BACK_gyroZ\",\n",
        "    \"imu_BACK_magneticX\",\"imu_BACK_magneticY\",\"imu_BACK_magneticZ\",\n",
        "    \"imu_RUA_accX\",\"imu_RUA_accY\",\"imu_RUA_accZ\",\n",
        "    \"imu_RUA_gyroX\",\"imu_RUA_gyroY\",\"imu_RUA_gyroZ\",\n",
        "    \"imu_RUA_magneticX\",\"imu_RUA_magneticY\",\"imu_RUA_magneticZ\",\n",
        "    \"imu_RLA_accX\",\"imu_RLA_accY\",\"imu_RLA_accZ\",\n",
        "    \"imu_RLA_gyroX\",\"imu_RLA_gyroY\",\"imu_RLA_gyroZ\",\n",
        "    \"imu_RLA_magneticX\",\"imu_RLA_magneticY\",\"imu_RLA_magneticZ\",\n",
        "    \"imu_LUA_accX\",\"imu_LUA_accY\",\"imu_LUA_accZ\",\n",
        "    \"imu_LUA_gyroX\",\"imu_LUA_gyroY\",\"imu_LUA_gyroZ\",\n",
        "    \"imu_LUA_magneticX\",\"imu_LUA_magneticY\",\"imu_LUA_magneticZ\",\n",
        "    \"imu_LLA_accX\",\"imu_LLA_accY\",\"imu_LLA_accZ\",\n",
        "    \"imu_LLA_gyroX\",\"imu_LLA_gyroY\",\"imu_LLA_gyroZ\",\n",
        "    \"imu_LLA_magneticX\",\"imu_LLA_magneticY\",\"imu_LLA_magneticZ\",\n",
        "    \"imu_L-SHOE_EuX\",\"imu_L-SHOE_EuY\",\"imu_L-SHOE_EuZ\",\n",
        "    \"imu_L-SHOE_Nav_Ax\",\"imu_L-SHOE_Nav_Ay\",\"imu_L-SHOE_Nav_Az\",\n",
        "    \"imu_L-SHOE_Body_Ax\",\"imu_L-SHOE_Body_Ay\",\"imu_L-SHOE_Body_Az\",\n",
        "    \"imu_L-SHOE_AngVelBodyFrameX\",\"imu_L-SHOE_AngVelBodyFrameY\",\"imu_L-SHOE_AngVelBodyFrameZ\",\n",
        "    \"imu_L-SHOE_AngVelNavFrameX\",\"imu_L-SHOE_AngVelNavFrameY\",\"imu_L-SHOE_AngVelNavFrameZ\",\n",
        "    \"imu_R-SHOE_EuX\",\"imu_R-SHOE_EuY\",\"imu_R-SHOE_EuZ\",\n",
        "    \"imu_R-SHOE_Nav_Ax\",\"imu_R-SHOE_Nav_Ay\",\"imu_R-SHOE_Nav_Az\",\n",
        "    \"imu_R-SHOE_Body_Ax\",\"imu_R-SHOE_Body_Ay\",\"imu_R-SHOE_Body_Az\",\n",
        "    \"imu_R-SHOE_AngVelBodyFrameX\",\"imu_R-SHOE_AngVelBodyFrameY\",\"imu_R-SHOE_AngVelBodyFrameZ\",\n",
        "    \"imu_R-SHOE_AngVelNavFrameX\",\"imu_R-SHOE_AngVelNavFrameY\",\"imu_R-SHOE_AngVelNavFrameZ\",\n",
        "]\n",
        "\n",
        "\n",
        "for user_idx in tqdm(range(1, user_num+1)):\n",
        "    user_data, user_labels = [], []\n",
        "    for file_idx in range(1, adl_file_num+1):\n",
        "        # gen src_data path\n",
        "        file_name = f\"S{user_idx}-ADL{file_idx}.dat\"\n",
        "        file_path = os.path.join(src_dir, file_name)\n",
        "\n",
        "        # load cleaned data\n",
        "        used_data = get_cleaned_user_data(file_path, user_idx)\n",
        "\n",
        "        # split data by label\n",
        "        for act_id, act_data in used_data.groupby('HL_Activity'):\n",
        "#             print(act_id)\n",
        "#             print(act_data.shape)\n",
        "            sample_cnt = int((act_data.shape[0]-seq_length)//shifting_step + 1)\n",
        "            if sample_cnt < 2:\n",
        "                print(f\"user {user_index} has only {act_data.shape[0]} samplings, drop\\n\")\n",
        "                continue\n",
        "            data_shape = (sample_cnt, seq_length, channel_num)  # (N, 300, 3*36)\n",
        "            act_sliced_data = np.empty(data_shape)\n",
        "            channl_idx = 0\n",
        "            for channel_name in used_channels:\n",
        "                channel_data = act_data[channel_name]\n",
        "                act_sliced_data[:,:,channl_idx] = sliding_window(channel_data.values, seq_length, shifting_step, 'T')\n",
        "                channl_idx += 1\n",
        "\n",
        "            # append label data\n",
        "            user_data.append(act_sliced_data)\n",
        "            # gen labels\n",
        "            class_labels = np.empty(act_sliced_data.shape[0])\n",
        "            actual_label = int(act_id)\n",
        "            class_labels.fill(actual_label)\n",
        "            user_labels.append(class_labels.astype(int))\n",
        "\n",
        "    # data and labels for each users\n",
        "    array_user_data= np.concatenate(user_data, axis=0)\n",
        "    array_user_labels= np.concatenate(user_labels, axis=0)\n",
        "    # print(user_idx, array_user_data.shape, array_user_labels.shape)\n",
        "\n",
        "    # Stratified train, validation, test split of the data\n",
        "    X_train, X_test, y_train, y_test = train_test_split(array_user_data, array_user_labels,  stratify=array_user_labels,  test_size=0.3,random_state=1)\n",
        "    #print(X_train.shape)\n",
        "    # print(y_train.shape)\n",
        "\n",
        "    # Data normalization\n",
        "    # Calculate mean and standard deviation based on train\n",
        "    #scaler = calc_normalization(X_train)\n",
        "\n",
        "    #Apply normalization\n",
        "    X_train = apply_normalization(X_train)\n",
        "    X_test = apply_normalization(X_test)\n",
        "\n",
        "    print(f\"user: {user_idx}\")\n",
        "    print(f\"train data: {X_train.shape}, train label: {y_train.shape}\")\n",
        "    print(f\"test data: {X_test.shape}, test label: {y_test.shape}\\n\")\n",
        "\n",
        "    # prepare samples\n",
        "    train_data = {'samples':X_train, 'labels':y_train}\n",
        "    test_data  = {'samples':X_test, 'labels':y_test}\n",
        "\n",
        "    os.makedirs(f'/kaggle/working/OPPORTUNITY_data', exist_ok=True)\n",
        "    torch.save(train_data, f'/kaggle/working/OPPORTUNITY_data/train_{user_idx}.pt')\n",
        "    # torch.save(val_data,  f'HHAR_user_data/val_{user_name}.pt')\n",
        "    torch.save(test_data, f'/kaggle/working/OPPORTUNITY_data/test_{user_idx}.pt')"
      ],
      "metadata": {
        "colab": {
          "base_uri": "https://localhost:8080/"
        },
        "id": "VkKRQt9DAQhA",
        "outputId": "51dacee0-699c-485e-cc16-11a72dce8bfb"
      },
      "execution_count": 10,
      "outputs": [
        {
          "output_type": "stream",
          "name": "stderr",
          "text": [
            "\r  0%|          | 0/4 [00:00<?, ?it/s]"
          ]
        },
        {
          "output_type": "stream",
          "name": "stdout",
          "text": [
            "(51116, 111)\n",
            "(35530, 111)\n",
            "(32224, 111)\n",
            "(0, 111)\n",
            "(33273, 111)\n",
            "(28975, 111)\n",
            "(32955, 111)\n",
            "(29535, 111)\n",
            "(30127, 111)\n",
            "(0, 111)\n",
            "user: 1\n",
            "train data: (2096, 300, 108), train label: (2096,)\n",
            "test data: (899, 300, 108), test label: (899,)\n",
            "\n"
          ]
        },
        {
          "output_type": "stream",
          "name": "stderr",
          "text": [
            "\r 25%|██▌       | 1/4 [00:29<01:28, 29.46s/it]"
          ]
        },
        {
          "output_type": "stream",
          "name": "stdout",
          "text": [
            "(42797, 111)\n",
            "(36620, 111)\n",
            "(30182, 111)\n",
            "(25967, 111)\n",
            "(34232, 111)\n",
            "(28313, 111)\n",
            "(32748, 111)\n",
            "(27578, 111)\n",
            "(31826, 111)\n",
            "(26967, 111)\n",
            "user: 2\n",
            "train data: (3227, 300, 108), train label: (3227,)\n",
            "test data: (1383, 300, 108), test label: (1383,)\n",
            "\n"
          ]
        },
        {
          "output_type": "stream",
          "name": "stderr",
          "text": [
            "\r 50%|█████     | 2/4 [01:38<01:45, 52.95s/it]"
          ]
        },
        {
          "output_type": "stream",
          "name": "stdout",
          "text": [
            "(37223, 111)\n",
            "(27886, 111)\n",
            "(27825, 111)\n",
            "(24089, 111)\n",
            "(26717, 111)\n",
            "(23157, 111)\n",
            "(27681, 111)\n",
            "(23880, 111)\n",
            "(26495, 111)\n",
            "(23253, 111)\n",
            "user: 3\n",
            "train data: (2685, 300, 108), train label: (2685,)\n",
            "test data: (1151, 300, 108), test label: (1151,)\n",
            "\n"
          ]
        },
        {
          "output_type": "stream",
          "name": "stderr",
          "text": [
            "\r 75%|███████▌  | 3/4 [02:57<01:04, 64.89s/it]"
          ]
        },
        {
          "output_type": "stream",
          "name": "stdout",
          "text": [
            "(41588, 111)\n",
            "(29666, 111)\n",
            "(27737, 111)\n",
            "(22709, 111)\n",
            "(25132, 111)\n",
            "(0, 111)\n",
            "(22230, 111)\n",
            "(0, 111)\n",
            "(30527, 111)\n",
            "(22263, 111)\n",
            "user: 4\n",
            "train data: (1641, 300, 108), train label: (1641,)\n",
            "test data: (704, 300, 108), test label: (704,)\n",
            "\n"
          ]
        },
        {
          "output_type": "stream",
          "name": "stderr",
          "text": [
            "100%|██████████| 4/4 [03:26<00:00, 51.71s/it]\n"
          ]
        }
      ]
    },
    {
      "cell_type": "code",
      "source": [
        "df=pd.DataFrame(y_train)"
      ],
      "metadata": {
        "id": "yOtKTJNRFiY1"
      },
      "execution_count": 11,
      "outputs": []
    },
    {
      "cell_type": "code",
      "source": [
        "y_train=pd.get_dummies(y_train,dtype=int)"
      ],
      "metadata": {
        "id": "ahit5BlYUoZq"
      },
      "execution_count": 12,
      "outputs": []
    },
    {
      "cell_type": "code",
      "source": [
        "y_train=y_train.to_numpy()"
      ],
      "metadata": {
        "id": "QP-I59rdWU2L"
      },
      "execution_count": 13,
      "outputs": []
    },
    {
      "cell_type": "code",
      "source": [
        "y_test=pd.get_dummies(y_test,dtype=int)"
      ],
      "metadata": {
        "id": "FUvCynMJhQgf"
      },
      "execution_count": 14,
      "outputs": []
    },
    {
      "cell_type": "code",
      "source": [
        "y_test=y_test.to_numpy()"
      ],
      "metadata": {
        "id": "_NizLAvqhYqk"
      },
      "execution_count": 15,
      "outputs": []
    },
    {
      "cell_type": "code",
      "source": [
        "print(y_test.shape)"
      ],
      "metadata": {
        "colab": {
          "base_uri": "https://localhost:8080/"
        },
        "id": "tVGy0JzmkFHs",
        "outputId": "7afe9ef6-fbfd-4add-ab72-75cdabf8561c"
      },
      "execution_count": 16,
      "outputs": [
        {
          "output_type": "stream",
          "name": "stdout",
          "text": [
            "(704, 5)\n"
          ]
        }
      ]
    },
    {
      "cell_type": "code",
      "source": [
        "X_train.shape\n"
      ],
      "metadata": {
        "colab": {
          "base_uri": "https://localhost:8080/"
        },
        "id": "vhLAhK5mVmLw",
        "outputId": "4d1ced30-5680-49f8-be3d-53b570cd72cb"
      },
      "execution_count": 17,
      "outputs": [
        {
          "output_type": "execute_result",
          "data": {
            "text/plain": [
              "(1641, 300, 108)"
            ]
          },
          "metadata": {},
          "execution_count": 17
        }
      ]
    },
    {
      "cell_type": "code",
      "source": [
        "import tensorflow as tf\n",
        "from tensorflow import keras"
      ],
      "metadata": {
        "id": "D6_fNMzDVPXY"
      },
      "execution_count": 18,
      "outputs": []
    },
    {
      "cell_type": "code",
      "source": [
        "inp=keras.layers.Input(shape=(300,108))\n",
        "one=keras.layers.LSTM(64,return_sequences=True)(inp)\n",
        "two=keras.layers.LSTM(64,return_sequences=True)(one)\n",
        "three=keras.layers.LSTM(50)(two)\n",
        "out=keras.layers.Dense(5,activation='softmax')(three)"
      ],
      "metadata": {
        "id": "UhXY_OkyV2ib"
      },
      "execution_count": 27,
      "outputs": []
    },
    {
      "cell_type": "code",
      "source": [
        "model=keras.Model(inputs=inp,outputs=out)"
      ],
      "metadata": {
        "id": "kJKRkIjTVjRC"
      },
      "execution_count": 39,
      "outputs": []
    },
    {
      "cell_type": "code",
      "source": [
        "model.compile(optimizer='adam',loss='categorical_crossentropy',metrics=['accuracy'])"
      ],
      "metadata": {
        "id": "HaEkm93cVjUi"
      },
      "execution_count": 40,
      "outputs": []
    },
    {
      "cell_type": "code",
      "source": [
        "model.summary()"
      ],
      "metadata": {
        "colab": {
          "base_uri": "https://localhost:8080/",
          "height": 289
        },
        "id": "xFoptdIBVjXF",
        "outputId": "1fc8b408-4a61-43ca-8725-6ad1c1bfae0f"
      },
      "execution_count": 41,
      "outputs": [
        {
          "output_type": "display_data",
          "data": {
            "text/plain": [
              "\u001b[1mModel: \"functional_1\"\u001b[0m\n"
            ],
            "text/html": [
              "<pre style=\"white-space:pre;overflow-x:auto;line-height:normal;font-family:Menlo,'DejaVu Sans Mono',consolas,'Courier New',monospace\"><span style=\"font-weight: bold\">Model: \"functional_1\"</span>\n",
              "</pre>\n"
            ]
          },
          "metadata": {}
        },
        {
          "output_type": "display_data",
          "data": {
            "text/plain": [
              "┏━━━━━━━━━━━━━━━━━━━━━━━━━━━━━━━━━━━━━━┳━━━━━━━━━━━━━━━━━━━━━━━━━━━━━┳━━━━━━━━━━━━━━━━━┓\n",
              "┃\u001b[1m \u001b[0m\u001b[1mLayer (type)                        \u001b[0m\u001b[1m \u001b[0m┃\u001b[1m \u001b[0m\u001b[1mOutput Shape               \u001b[0m\u001b[1m \u001b[0m┃\u001b[1m \u001b[0m\u001b[1m        Param #\u001b[0m\u001b[1m \u001b[0m┃\n",
              "┡━━━━━━━━━━━━━━━━━━━━━━━━━━━━━━━━━━━━━━╇━━━━━━━━━━━━━━━━━━━━━━━━━━━━━╇━━━━━━━━━━━━━━━━━┩\n",
              "│ input_layer_1 (\u001b[38;5;33mInputLayer\u001b[0m)           │ (\u001b[38;5;45mNone\u001b[0m, \u001b[38;5;34m300\u001b[0m, \u001b[38;5;34m108\u001b[0m)            │               \u001b[38;5;34m0\u001b[0m │\n",
              "├──────────────────────────────────────┼─────────────────────────────┼─────────────────┤\n",
              "│ lstm_2 (\u001b[38;5;33mLSTM\u001b[0m)                        │ (\u001b[38;5;45mNone\u001b[0m, \u001b[38;5;34m300\u001b[0m, \u001b[38;5;34m64\u001b[0m)             │          \u001b[38;5;34m44,288\u001b[0m │\n",
              "├──────────────────────────────────────┼─────────────────────────────┼─────────────────┤\n",
              "│ lstm_3 (\u001b[38;5;33mLSTM\u001b[0m)                        │ (\u001b[38;5;45mNone\u001b[0m, \u001b[38;5;34m300\u001b[0m, \u001b[38;5;34m64\u001b[0m)             │          \u001b[38;5;34m33,024\u001b[0m │\n",
              "├──────────────────────────────────────┼─────────────────────────────┼─────────────────┤\n",
              "│ lstm_4 (\u001b[38;5;33mLSTM\u001b[0m)                        │ (\u001b[38;5;45mNone\u001b[0m, \u001b[38;5;34m50\u001b[0m)                  │          \u001b[38;5;34m23,000\u001b[0m │\n",
              "├──────────────────────────────────────┼─────────────────────────────┼─────────────────┤\n",
              "│ dense (\u001b[38;5;33mDense\u001b[0m)                        │ (\u001b[38;5;45mNone\u001b[0m, \u001b[38;5;34m5\u001b[0m)                   │             \u001b[38;5;34m255\u001b[0m │\n",
              "└──────────────────────────────────────┴─────────────────────────────┴─────────────────┘\n"
            ],
            "text/html": [
              "<pre style=\"white-space:pre;overflow-x:auto;line-height:normal;font-family:Menlo,'DejaVu Sans Mono',consolas,'Courier New',monospace\">┏━━━━━━━━━━━━━━━━━━━━━━━━━━━━━━━━━━━━━━┳━━━━━━━━━━━━━━━━━━━━━━━━━━━━━┳━━━━━━━━━━━━━━━━━┓\n",
              "┃<span style=\"font-weight: bold\"> Layer (type)                         </span>┃<span style=\"font-weight: bold\"> Output Shape                </span>┃<span style=\"font-weight: bold\">         Param # </span>┃\n",
              "┡━━━━━━━━━━━━━━━━━━━━━━━━━━━━━━━━━━━━━━╇━━━━━━━━━━━━━━━━━━━━━━━━━━━━━╇━━━━━━━━━━━━━━━━━┩\n",
              "│ input_layer_1 (<span style=\"color: #0087ff; text-decoration-color: #0087ff\">InputLayer</span>)           │ (<span style=\"color: #00d7ff; text-decoration-color: #00d7ff\">None</span>, <span style=\"color: #00af00; text-decoration-color: #00af00\">300</span>, <span style=\"color: #00af00; text-decoration-color: #00af00\">108</span>)            │               <span style=\"color: #00af00; text-decoration-color: #00af00\">0</span> │\n",
              "├──────────────────────────────────────┼─────────────────────────────┼─────────────────┤\n",
              "│ lstm_2 (<span style=\"color: #0087ff; text-decoration-color: #0087ff\">LSTM</span>)                        │ (<span style=\"color: #00d7ff; text-decoration-color: #00d7ff\">None</span>, <span style=\"color: #00af00; text-decoration-color: #00af00\">300</span>, <span style=\"color: #00af00; text-decoration-color: #00af00\">64</span>)             │          <span style=\"color: #00af00; text-decoration-color: #00af00\">44,288</span> │\n",
              "├──────────────────────────────────────┼─────────────────────────────┼─────────────────┤\n",
              "│ lstm_3 (<span style=\"color: #0087ff; text-decoration-color: #0087ff\">LSTM</span>)                        │ (<span style=\"color: #00d7ff; text-decoration-color: #00d7ff\">None</span>, <span style=\"color: #00af00; text-decoration-color: #00af00\">300</span>, <span style=\"color: #00af00; text-decoration-color: #00af00\">64</span>)             │          <span style=\"color: #00af00; text-decoration-color: #00af00\">33,024</span> │\n",
              "├──────────────────────────────────────┼─────────────────────────────┼─────────────────┤\n",
              "│ lstm_4 (<span style=\"color: #0087ff; text-decoration-color: #0087ff\">LSTM</span>)                        │ (<span style=\"color: #00d7ff; text-decoration-color: #00d7ff\">None</span>, <span style=\"color: #00af00; text-decoration-color: #00af00\">50</span>)                  │          <span style=\"color: #00af00; text-decoration-color: #00af00\">23,000</span> │\n",
              "├──────────────────────────────────────┼─────────────────────────────┼─────────────────┤\n",
              "│ dense (<span style=\"color: #0087ff; text-decoration-color: #0087ff\">Dense</span>)                        │ (<span style=\"color: #00d7ff; text-decoration-color: #00d7ff\">None</span>, <span style=\"color: #00af00; text-decoration-color: #00af00\">5</span>)                   │             <span style=\"color: #00af00; text-decoration-color: #00af00\">255</span> │\n",
              "└──────────────────────────────────────┴─────────────────────────────┴─────────────────┘\n",
              "</pre>\n"
            ]
          },
          "metadata": {}
        },
        {
          "output_type": "display_data",
          "data": {
            "text/plain": [
              "\u001b[1m Total params: \u001b[0m\u001b[38;5;34m100,567\u001b[0m (392.84 KB)\n"
            ],
            "text/html": [
              "<pre style=\"white-space:pre;overflow-x:auto;line-height:normal;font-family:Menlo,'DejaVu Sans Mono',consolas,'Courier New',monospace\"><span style=\"font-weight: bold\"> Total params: </span><span style=\"color: #00af00; text-decoration-color: #00af00\">100,567</span> (392.84 KB)\n",
              "</pre>\n"
            ]
          },
          "metadata": {}
        },
        {
          "output_type": "display_data",
          "data": {
            "text/plain": [
              "\u001b[1m Trainable params: \u001b[0m\u001b[38;5;34m100,567\u001b[0m (392.84 KB)\n"
            ],
            "text/html": [
              "<pre style=\"white-space:pre;overflow-x:auto;line-height:normal;font-family:Menlo,'DejaVu Sans Mono',consolas,'Courier New',monospace\"><span style=\"font-weight: bold\"> Trainable params: </span><span style=\"color: #00af00; text-decoration-color: #00af00\">100,567</span> (392.84 KB)\n",
              "</pre>\n"
            ]
          },
          "metadata": {}
        },
        {
          "output_type": "display_data",
          "data": {
            "text/plain": [
              "\u001b[1m Non-trainable params: \u001b[0m\u001b[38;5;34m0\u001b[0m (0.00 B)\n"
            ],
            "text/html": [
              "<pre style=\"white-space:pre;overflow-x:auto;line-height:normal;font-family:Menlo,'DejaVu Sans Mono',consolas,'Courier New',monospace\"><span style=\"font-weight: bold\"> Non-trainable params: </span><span style=\"color: #00af00; text-decoration-color: #00af00\">0</span> (0.00 B)\n",
              "</pre>\n"
            ]
          },
          "metadata": {}
        }
      ]
    },
    {
      "cell_type": "code",
      "source": [
        "hist=model.fit(X_train,y_train,batch_size=32,callbacks=tf.keras.callbacks.TensorBoard(log_dir='./logs'),validation_data=[X_test,y_test],epochs=50)"
      ],
      "metadata": {
        "colab": {
          "base_uri": "https://localhost:8080/"
        },
        "id": "CDmklqleVjZ4",
        "outputId": "60cf8fee-019f-4395-9c62-529b2bdd229e"
      },
      "execution_count": 43,
      "outputs": [
        {
          "output_type": "stream",
          "name": "stdout",
          "text": [
            "Epoch 1/50\n",
            "\u001b[1m52/52\u001b[0m \u001b[32m━━━━━━━━━━━━━━━━━━━━\u001b[0m\u001b[37m\u001b[0m \u001b[1m2s\u001b[0m 43ms/step - accuracy: 0.9854 - loss: 0.0475 - val_accuracy: 0.9759 - val_loss: 0.1080\n",
            "Epoch 2/50\n",
            "\u001b[1m52/52\u001b[0m \u001b[32m━━━━━━━━━━━━━━━━━━━━\u001b[0m\u001b[37m\u001b[0m \u001b[1m3s\u001b[0m 49ms/step - accuracy: 0.9888 - loss: 0.0360 - val_accuracy: 0.9815 - val_loss: 0.0767\n",
            "Epoch 3/50\n",
            "\u001b[1m52/52\u001b[0m \u001b[32m━━━━━━━━━━━━━━━━━━━━\u001b[0m\u001b[37m\u001b[0m \u001b[1m5s\u001b[0m 37ms/step - accuracy: 0.9951 - loss: 0.0151 - val_accuracy: 0.9801 - val_loss: 0.0991\n",
            "Epoch 4/50\n",
            "\u001b[1m52/52\u001b[0m \u001b[32m━━━━━━━━━━━━━━━━━━━━\u001b[0m\u001b[37m\u001b[0m \u001b[1m2s\u001b[0m 36ms/step - accuracy: 0.9924 - loss: 0.0243 - val_accuracy: 0.9915 - val_loss: 0.0452\n",
            "Epoch 5/50\n",
            "\u001b[1m52/52\u001b[0m \u001b[32m━━━━━━━━━━━━━━━━━━━━\u001b[0m\u001b[37m\u001b[0m \u001b[1m2s\u001b[0m 35ms/step - accuracy: 0.9988 - loss: 0.0073 - val_accuracy: 0.9929 - val_loss: 0.0296\n",
            "Epoch 6/50\n",
            "\u001b[1m52/52\u001b[0m \u001b[32m━━━━━━━━━━━━━━━━━━━━\u001b[0m\u001b[37m\u001b[0m \u001b[1m2s\u001b[0m 43ms/step - accuracy: 0.9990 - loss: 0.0051 - val_accuracy: 0.9886 - val_loss: 0.0291\n",
            "Epoch 7/50\n",
            "\u001b[1m52/52\u001b[0m \u001b[32m━━━━━━━━━━━━━━━━━━━━\u001b[0m\u001b[37m\u001b[0m \u001b[1m3s\u001b[0m 42ms/step - accuracy: 0.9998 - loss: 0.0024 - val_accuracy: 0.9929 - val_loss: 0.0232\n",
            "Epoch 8/50\n",
            "\u001b[1m52/52\u001b[0m \u001b[32m━━━━━━━━━━━━━━━━━━━━\u001b[0m\u001b[37m\u001b[0m \u001b[1m2s\u001b[0m 35ms/step - accuracy: 1.0000 - loss: 0.0012 - val_accuracy: 0.9929 - val_loss: 0.0217\n",
            "Epoch 9/50\n",
            "\u001b[1m52/52\u001b[0m \u001b[32m━━━━━━━━━━━━━━━━━━━━\u001b[0m\u001b[37m\u001b[0m \u001b[1m3s\u001b[0m 36ms/step - accuracy: 1.0000 - loss: 9.0533e-04 - val_accuracy: 0.9943 - val_loss: 0.0202\n",
            "Epoch 10/50\n",
            "\u001b[1m52/52\u001b[0m \u001b[32m━━━━━━━━━━━━━━━━━━━━\u001b[0m\u001b[37m\u001b[0m \u001b[1m2s\u001b[0m 35ms/step - accuracy: 1.0000 - loss: 8.3517e-04 - val_accuracy: 0.9943 - val_loss: 0.0221\n",
            "Epoch 11/50\n",
            "\u001b[1m52/52\u001b[0m \u001b[32m━━━━━━━━━━━━━━━━━━━━\u001b[0m\u001b[37m\u001b[0m \u001b[1m3s\u001b[0m 40ms/step - accuracy: 0.9968 - loss: 0.0134 - val_accuracy: 0.9702 - val_loss: 0.0835\n",
            "Epoch 12/50\n",
            "\u001b[1m52/52\u001b[0m \u001b[32m━━━━━━━━━━━━━━━━━━━━\u001b[0m\u001b[37m\u001b[0m \u001b[1m3s\u001b[0m 43ms/step - accuracy: 0.9909 - loss: 0.0347 - val_accuracy: 0.9773 - val_loss: 0.0926\n",
            "Epoch 13/50\n",
            "\u001b[1m52/52\u001b[0m \u001b[32m━━━━━━━━━━━━━━━━━━━━\u001b[0m\u001b[37m\u001b[0m \u001b[1m2s\u001b[0m 35ms/step - accuracy: 0.9956 - loss: 0.0214 - val_accuracy: 0.9901 - val_loss: 0.0275\n",
            "Epoch 14/50\n",
            "\u001b[1m52/52\u001b[0m \u001b[32m━━━━━━━━━━━━━━━━━━━━\u001b[0m\u001b[37m\u001b[0m \u001b[1m3s\u001b[0m 35ms/step - accuracy: 0.9936 - loss: 0.0190 - val_accuracy: 0.9773 - val_loss: 0.0886\n",
            "Epoch 15/50\n",
            "\u001b[1m52/52\u001b[0m \u001b[32m━━━━━━━━━━━━━━━━━━━━\u001b[0m\u001b[37m\u001b[0m \u001b[1m2s\u001b[0m 36ms/step - accuracy: 0.9780 - loss: 0.0881 - val_accuracy: 0.9901 - val_loss: 0.0511\n",
            "Epoch 16/50\n",
            "\u001b[1m52/52\u001b[0m \u001b[32m━━━━━━━━━━━━━━━━━━━━\u001b[0m\u001b[37m\u001b[0m \u001b[1m2s\u001b[0m 35ms/step - accuracy: 0.9949 - loss: 0.0190 - val_accuracy: 0.9844 - val_loss: 0.0730\n",
            "Epoch 17/50\n",
            "\u001b[1m52/52\u001b[0m \u001b[32m━━━━━━━━━━━━━━━━━━━━\u001b[0m\u001b[37m\u001b[0m \u001b[1m3s\u001b[0m 46ms/step - accuracy: 0.9888 - loss: 0.0551 - val_accuracy: 0.9858 - val_loss: 0.0453\n",
            "Epoch 18/50\n",
            "\u001b[1m52/52\u001b[0m \u001b[32m━━━━━━━━━━━━━━━━━━━━\u001b[0m\u001b[37m\u001b[0m \u001b[1m2s\u001b[0m 41ms/step - accuracy: 0.9960 - loss: 0.0182 - val_accuracy: 0.9943 - val_loss: 0.0254\n",
            "Epoch 19/50\n",
            "\u001b[1m52/52\u001b[0m \u001b[32m━━━━━━━━━━━━━━━━━━━━\u001b[0m\u001b[37m\u001b[0m \u001b[1m2s\u001b[0m 35ms/step - accuracy: 0.9994 - loss: 0.0073 - val_accuracy: 0.9943 - val_loss: 0.0202\n",
            "Epoch 20/50\n",
            "\u001b[1m52/52\u001b[0m \u001b[32m━━━━━━━━━━━━━━━━━━━━\u001b[0m\u001b[37m\u001b[0m \u001b[1m2s\u001b[0m 35ms/step - accuracy: 1.0000 - loss: 0.0047 - val_accuracy: 0.9943 - val_loss: 0.0185\n",
            "Epoch 21/50\n",
            "\u001b[1m52/52\u001b[0m \u001b[32m━━━━━━━━━━━━━━━━━━━━\u001b[0m\u001b[37m\u001b[0m \u001b[1m2s\u001b[0m 35ms/step - accuracy: 1.0000 - loss: 0.0021 - val_accuracy: 0.9943 - val_loss: 0.0184\n",
            "Epoch 22/50\n",
            "\u001b[1m52/52\u001b[0m \u001b[32m━━━━━━━━━━━━━━━━━━━━\u001b[0m\u001b[37m\u001b[0m \u001b[1m2s\u001b[0m 41ms/step - accuracy: 1.0000 - loss: 0.0020 - val_accuracy: 0.9957 - val_loss: 0.0154\n",
            "Epoch 23/50\n",
            "\u001b[1m52/52\u001b[0m \u001b[32m━━━━━━━━━━━━━━━━━━━━\u001b[0m\u001b[37m\u001b[0m \u001b[1m3s\u001b[0m 43ms/step - accuracy: 1.0000 - loss: 0.0017 - val_accuracy: 0.9972 - val_loss: 0.0150\n",
            "Epoch 24/50\n",
            "\u001b[1m52/52\u001b[0m \u001b[32m━━━━━━━━━━━━━━━━━━━━\u001b[0m\u001b[37m\u001b[0m \u001b[1m2s\u001b[0m 35ms/step - accuracy: 1.0000 - loss: 0.0016 - val_accuracy: 0.9972 - val_loss: 0.0146\n",
            "Epoch 25/50\n",
            "\u001b[1m52/52\u001b[0m \u001b[32m━━━━━━━━━━━━━━━━━━━━\u001b[0m\u001b[37m\u001b[0m \u001b[1m2s\u001b[0m 36ms/step - accuracy: 1.0000 - loss: 0.0014 - val_accuracy: 0.9972 - val_loss: 0.0142\n",
            "Epoch 26/50\n",
            "\u001b[1m52/52\u001b[0m \u001b[32m━━━━━━━━━━━━━━━━━━━━\u001b[0m\u001b[37m\u001b[0m \u001b[1m2s\u001b[0m 36ms/step - accuracy: 1.0000 - loss: 0.0013 - val_accuracy: 0.9972 - val_loss: 0.0138\n",
            "Epoch 27/50\n",
            "\u001b[1m52/52\u001b[0m \u001b[32m━━━━━━━━━━━━━━━━━━━━\u001b[0m\u001b[37m\u001b[0m \u001b[1m2s\u001b[0m 35ms/step - accuracy: 1.0000 - loss: 0.0011 - val_accuracy: 0.9972 - val_loss: 0.0133\n",
            "Epoch 28/50\n",
            "\u001b[1m52/52\u001b[0m \u001b[32m━━━━━━━━━━━━━━━━━━━━\u001b[0m\u001b[37m\u001b[0m \u001b[1m3s\u001b[0m 53ms/step - accuracy: 1.0000 - loss: 0.0010 - val_accuracy: 0.9972 - val_loss: 0.0132\n",
            "Epoch 29/50\n",
            "\u001b[1m52/52\u001b[0m \u001b[32m━━━━━━━━━━━━━━━━━━━━\u001b[0m\u001b[37m\u001b[0m \u001b[1m2s\u001b[0m 35ms/step - accuracy: 1.0000 - loss: 9.1237e-04 - val_accuracy: 0.9972 - val_loss: 0.0130\n",
            "Epoch 30/50\n",
            "\u001b[1m52/52\u001b[0m \u001b[32m━━━━━━━━━━━━━━━━━━━━\u001b[0m\u001b[37m\u001b[0m \u001b[1m2s\u001b[0m 35ms/step - accuracy: 1.0000 - loss: 8.4181e-04 - val_accuracy: 0.9972 - val_loss: 0.0130\n",
            "Epoch 31/50\n",
            "\u001b[1m52/52\u001b[0m \u001b[32m━━━━━━━━━━━━━━━━━━━━\u001b[0m\u001b[37m\u001b[0m \u001b[1m3s\u001b[0m 36ms/step - accuracy: 1.0000 - loss: 7.5375e-04 - val_accuracy: 0.9972 - val_loss: 0.0129\n",
            "Epoch 32/50\n",
            "\u001b[1m52/52\u001b[0m \u001b[32m━━━━━━━━━━━━━━━━━━━━\u001b[0m\u001b[37m\u001b[0m \u001b[1m2s\u001b[0m 35ms/step - accuracy: 1.0000 - loss: 7.1898e-04 - val_accuracy: 0.9972 - val_loss: 0.0129\n",
            "Epoch 33/50\n",
            "\u001b[1m52/52\u001b[0m \u001b[32m━━━━━━━━━━━━━━━━━━━━\u001b[0m\u001b[37m\u001b[0m \u001b[1m3s\u001b[0m 45ms/step - accuracy: 1.0000 - loss: 7.6845e-04 - val_accuracy: 0.9957 - val_loss: 0.0139\n",
            "Epoch 34/50\n",
            "\u001b[1m52/52\u001b[0m \u001b[32m━━━━━━━━━━━━━━━━━━━━\u001b[0m\u001b[37m\u001b[0m \u001b[1m2s\u001b[0m 43ms/step - accuracy: 1.0000 - loss: 6.6072e-04 - val_accuracy: 0.9957 - val_loss: 0.0138\n",
            "Epoch 35/50\n",
            "\u001b[1m52/52\u001b[0m \u001b[32m━━━━━━━━━━━━━━━━━━━━\u001b[0m\u001b[37m\u001b[0m \u001b[1m2s\u001b[0m 35ms/step - accuracy: 1.0000 - loss: 6.7084e-04 - val_accuracy: 0.9957 - val_loss: 0.0138\n",
            "Epoch 36/50\n",
            "\u001b[1m52/52\u001b[0m \u001b[32m━━━━━━━━━━━━━━━━━━━━\u001b[0m\u001b[37m\u001b[0m \u001b[1m2s\u001b[0m 35ms/step - accuracy: 1.0000 - loss: 5.8664e-04 - val_accuracy: 0.9957 - val_loss: 0.0138\n",
            "Epoch 37/50\n",
            "\u001b[1m52/52\u001b[0m \u001b[32m━━━━━━━━━━━━━━━━━━━━\u001b[0m\u001b[37m\u001b[0m \u001b[1m3s\u001b[0m 35ms/step - accuracy: 1.0000 - loss: 5.6683e-04 - val_accuracy: 0.9957 - val_loss: 0.0138\n",
            "Epoch 38/50\n",
            "\u001b[1m52/52\u001b[0m \u001b[32m━━━━━━━━━━━━━━━━━━━━\u001b[0m\u001b[37m\u001b[0m \u001b[1m2s\u001b[0m 35ms/step - accuracy: 1.0000 - loss: 5.4631e-04 - val_accuracy: 0.9957 - val_loss: 0.0138\n",
            "Epoch 39/50\n",
            "\u001b[1m52/52\u001b[0m \u001b[32m━━━━━━━━━━━━━━━━━━━━\u001b[0m\u001b[37m\u001b[0m \u001b[1m3s\u001b[0m 51ms/step - accuracy: 1.0000 - loss: 4.6793e-04 - val_accuracy: 0.9957 - val_loss: 0.0137\n",
            "Epoch 40/50\n",
            "\u001b[1m52/52\u001b[0m \u001b[32m━━━━━━━━━━━━━━━━━━━━\u001b[0m\u001b[37m\u001b[0m \u001b[1m4s\u001b[0m 37ms/step - accuracy: 1.0000 - loss: 4.2228e-04 - val_accuracy: 0.9957 - val_loss: 0.0137\n",
            "Epoch 41/50\n",
            "\u001b[1m52/52\u001b[0m \u001b[32m━━━━━━━━━━━━━━━━━━━━\u001b[0m\u001b[37m\u001b[0m \u001b[1m2s\u001b[0m 35ms/step - accuracy: 1.0000 - loss: 3.7892e-04 - val_accuracy: 0.9957 - val_loss: 0.0137\n",
            "Epoch 42/50\n",
            "\u001b[1m52/52\u001b[0m \u001b[32m━━━━━━━━━━━━━━━━━━━━\u001b[0m\u001b[37m\u001b[0m \u001b[1m3s\u001b[0m 35ms/step - accuracy: 1.0000 - loss: 3.8167e-04 - val_accuracy: 0.9957 - val_loss: 0.0136\n",
            "Epoch 43/50\n",
            "\u001b[1m52/52\u001b[0m \u001b[32m━━━━━━━━━━━━━━━━━━━━\u001b[0m\u001b[37m\u001b[0m \u001b[1m3s\u001b[0m 43ms/step - accuracy: 1.0000 - loss: 4.1338e-04 - val_accuracy: 0.9957 - val_loss: 0.0136\n",
            "Epoch 44/50\n",
            "\u001b[1m52/52\u001b[0m \u001b[32m━━━━━━━━━━━━━━━━━━━━\u001b[0m\u001b[37m\u001b[0m \u001b[1m2s\u001b[0m 41ms/step - accuracy: 1.0000 - loss: 3.7566e-04 - val_accuracy: 0.9957 - val_loss: 0.0135\n",
            "Epoch 45/50\n",
            "\u001b[1m52/52\u001b[0m \u001b[32m━━━━━━━━━━━━━━━━━━━━\u001b[0m\u001b[37m\u001b[0m \u001b[1m2s\u001b[0m 35ms/step - accuracy: 1.0000 - loss: 3.6273e-04 - val_accuracy: 0.9957 - val_loss: 0.0134\n",
            "Epoch 46/50\n",
            "\u001b[1m52/52\u001b[0m \u001b[32m━━━━━━━━━━━━━━━━━━━━\u001b[0m\u001b[37m\u001b[0m \u001b[1m3s\u001b[0m 36ms/step - accuracy: 1.0000 - loss: 2.8474e-04 - val_accuracy: 0.9957 - val_loss: 0.0132\n",
            "Epoch 47/50\n",
            "\u001b[1m52/52\u001b[0m \u001b[32m━━━━━━━━━━━━━━━━━━━━\u001b[0m\u001b[37m\u001b[0m \u001b[1m2s\u001b[0m 35ms/step - accuracy: 1.0000 - loss: 3.5534e-04 - val_accuracy: 0.9957 - val_loss: 0.0131\n",
            "Epoch 48/50\n",
            "\u001b[1m52/52\u001b[0m \u001b[32m━━━━━━━━━━━━━━━━━━━━\u001b[0m\u001b[37m\u001b[0m \u001b[1m3s\u001b[0m 35ms/step - accuracy: 1.0000 - loss: 3.1926e-04 - val_accuracy: 0.9957 - val_loss: 0.0129\n",
            "Epoch 49/50\n",
            "\u001b[1m52/52\u001b[0m \u001b[32m━━━━━━━━━━━━━━━━━━━━\u001b[0m\u001b[37m\u001b[0m \u001b[1m3s\u001b[0m 46ms/step - accuracy: 1.0000 - loss: 2.5696e-04 - val_accuracy: 0.9957 - val_loss: 0.0127\n",
            "Epoch 50/50\n",
            "\u001b[1m52/52\u001b[0m \u001b[32m━━━━━━━━━━━━━━━━━━━━\u001b[0m\u001b[37m\u001b[0m \u001b[1m2s\u001b[0m 35ms/step - accuracy: 1.0000 - loss: 2.9380e-04 - val_accuracy: 0.9972 - val_loss: 0.0100\n"
          ]
        }
      ]
    },
    {
      "cell_type": "code",
      "source": [
        "evel=model.evaluate(X_test,y_test,batch_size=32)"
      ],
      "metadata": {
        "colab": {
          "base_uri": "https://localhost:8080/"
        },
        "id": "bFE_YOc7VjdB",
        "outputId": "31a09098-4913-4b7a-83de-43e1c4a3af76"
      },
      "execution_count": 44,
      "outputs": [
        {
          "output_type": "stream",
          "name": "stdout",
          "text": [
            "\u001b[1m22/22\u001b[0m \u001b[32m━━━━━━━━━━━━━━━━━━━━\u001b[0m\u001b[37m\u001b[0m \u001b[1m0s\u001b[0m 21ms/step - accuracy: 0.9957 - loss: 0.0185\n"
          ]
        }
      ]
    },
    {
      "cell_type": "code",
      "source": [],
      "metadata": {
        "id": "Ux8L5sYZVjgG"
      },
      "execution_count": null,
      "outputs": []
    }
  ],
  "metadata": {
    "accelerator": "GPU",
    "colab": {
      "provenance": [],
      "gpuType": "T4"
    },
    "kernelspec": {
      "display_name": "Python 3",
      "name": "python3"
    },
    "language_info": {
      "name": "python"
    }
  },
  "nbformat": 4,
  "nbformat_minor": 0
}